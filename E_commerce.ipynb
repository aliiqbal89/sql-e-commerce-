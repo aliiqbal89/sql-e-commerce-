{
  "nbformat": 4,
  "nbformat_minor": 0,
  "metadata": {
    "colab": {
      "provenance": []
    },
    "kernelspec": {
      "name": "python3",
      "display_name": "Python 3"
    },
    "language_info": {
      "name": "python"
    }
  },
  "cells": [
    {
      "cell_type": "code",
      "execution_count": 1,
      "metadata": {
        "colab": {
          "base_uri": "https://localhost:8080/"
        },
        "id": "AjlxwPkhdtUC",
        "outputId": "414a89fb-c01f-4080-9a9b-39b643754576"
      },
      "outputs": [
        {
          "output_type": "stream",
          "name": "stdout",
          "text": [
            "+-----------+-------------+-----------------+---------+--------+----------+----------+-------+----------+--------+------------+-----------+------+----------+--------------+-------+---------+------+------------------+-----------+----------------------+-------------+-------------+\n",
            "|customer_id|customer_name|email            |country  |order_id|order_date|status    |item_id|product_id|quantity|product_name|category   |price |payment_id|payment_method|amount |review_id|rating|comment           |shipping_id|shipping_address      |shipping_date|carrier      |\n",
            "+-----------+-------------+-----------------+---------+--------+----------+----------+-------+----------+--------+------------+-----------+------+----------+--------------+-------+---------+------+------------------+-----------+----------------------+-------------+-------------+\n",
            "|NULL       |NULL         |NULL             |NULL     |NULL    |NULL      |NULL      |NULL   |NULL      |NULL    |NULL        |NULL       |NULL  |NULL      |NULL          |NULL   |502      |4     |Good value.       |NULL       |NULL                  |NULL         |NULL         |\n",
            "|NULL       |NULL         |NULL             |NULL     |NULL    |NULL      |NULL      |NULL   |NULL      |NULL    |NULL        |NULL       |NULL  |NULL      |NULL          |NULL   |503      |3     |Average quality.  |NULL       |NULL                  |NULL         |NULL         |\n",
            "|NULL       |NULL         |NULL             |NULL     |NULL    |NULL      |NULL      |NULL   |NULL      |NULL    |NULL        |NULL       |NULL  |NULL      |NULL          |NULL   |504      |NULL  |No comment.       |NULL       |NULL                  |NULL         |NULL         |\n",
            "|NULL       |NULL         |NULL             |NULL     |NULL    |NULL      |NULL      |NULL   |NULL      |NULL    |NULL        |NULL       |NULL  |NULL      |NULL          |NULL   |505      |2     |Not satisfied.    |NULL       |NULL                  |NULL         |NULL         |\n",
            "|NULL       |NULL         |NULL             |NULL     |NULL    |NULL      |NULL      |NULL   |NULL      |NULL    |NULL        |NULL       |NULL  |NULL      |NULL          |NULL   |506      |4     |Very useful.      |NULL       |NULL                  |NULL         |NULL         |\n",
            "|NULL       |NULL         |NULL             |NULL     |NULL    |NULL      |NULL      |NULL   |NULL      |NULL    |NULL        |NULL       |NULL  |NULL      |NULL          |NULL   |507      |NULL  |NULL              |NULL       |NULL                  |NULL         |NULL         |\n",
            "|NULL       |NULL         |NULL             |NULL     |NULL    |NULL      |NULL      |NULL   |NULL      |NULL    |NULL        |NULL       |NULL  |NULL      |NULL          |NULL   |508      |5     |Great screen.     |NULL       |NULL                  |NULL         |NULL         |\n",
            "|NULL       |NULL         |NULL             |NULL     |NULL    |NULL      |NULL      |NULL   |NULL      |NULL    |NULL        |NULL       |NULL  |NULL      |NULL          |NULL   |509      |4     |Works well.       |NULL       |NULL                  |NULL         |NULL         |\n",
            "|NULL       |NULL         |NULL             |NULL     |NULL    |NULL      |NULL      |NULL   |NULL      |NULL    |NULL        |NULL       |NULL  |NULL      |NULL          |NULL   |510      |3     |OK for the price. |NULL       |NULL                  |NULL         |NULL         |\n",
            "|1          |Alice        |alice@example.com|USA      |201     |2023-01-05|Shipped   |301    |101       |2       |Laptop      |Electronics|999.99|401       |Credit Card   |1039.97|501      |5     |Excellent product!|601        |123 Main St, USA      |2023-01-06   |FedEx        |\n",
            "|1          |Alice        |alice@example.com|USA      |201     |2023-01-05|Shipped   |302    |102       |1       |Mouse       |Electronics|19.99 |401       |Credit Card   |1039.97|NULL     |NULL  |NULL              |601        |123 Main St, USA      |2023-01-06   |FedEx        |\n",
            "|2          |Bob          |bob@example.com  |UK       |202     |2023-01-06|Processing|303    |103       |1       |Keyboard    |Electronics|49.99 |402       |PayPal        |49.99  |NULL     |NULL  |NULL              |602        |456 Baker St, UK      |2023-01-07   |DHL          |\n",
            "|3          |Charlie      |NULL             |India    |203     |2023-01-07|Delivered |304    |104       |3       |Monitor     |Electronics|199.99|403       |Credit Card   |599.97 |NULL     |NULL  |NULL              |603        |789 Hill Rd, India    |NULL         |BlueDart     |\n",
            "|4          |David        |david@example.com|Canada   |204     |2023-01-08|Cancelled |305    |105       |1       |Phone       |Electronics|699.99|404       |Debit Card    |699.99 |NULL     |NULL  |NULL              |604        |12 King Ave, Canada   |2023-01-09   |NULL         |\n",
            "|5          |Eva          |eva@example.com  |NULL     |205     |2023-01-09|Shipped   |306    |106       |2       |Tablet      |Electronics|299.99|405       |PayPal        |599.98 |NULL     |NULL  |NULL              |605        |99 Ocean Blvd, USA    |2023-01-10   |USPS         |\n",
            "|6          |Frank        |frank@example.com|Germany  |206     |2023-01-10|Delivered |307    |107       |1       |Printer     |Electronics|149.99|406       |UPI           |149.99 |NULL     |NULL  |NULL              |606        |17 West Dr, Germany   |NULL         |DHL          |\n",
            "|7          |Grace        |grace@example.com|France   |207     |2023-01-11|Shipped   |308    |108       |4       |Headphones  |Electronics|89.99 |407       |Credit Card   |359.96 |NULL     |NULL  |NULL              |607        |22 East St, France    |2023-01-12   |FedEx        |\n",
            "|8          |Henry        |henry@example.com|Canada   |208     |2023-01-12|Processing|309    |109       |2       |Webcam      |Electronics|39.99 |408       |Debit Card    |79.98  |NULL     |NULL  |NULL              |608        |5 North Rd, Canada    |2023-01-13   |UPS          |\n",
            "|9          |Ivy          |ivy@example.com  |Russia   |209     |2023-01-13|Shipped   |310    |110       |1       |Charger     |Accessories|NULL  |409       |Credit Card   |39.99  |NULL     |NULL  |NULL              |609        |1 Central St, Russia  |NULL         |RussianPost  |\n",
            "|10         |John         |NULL             |Australia|210     |2023-01-14|Delivered |NULL   |NULL      |NULL    |NULL        |NULL       |NULL  |410       |PayPal        |89.99  |NULL     |NULL  |NULL              |610        |8 Lake View, Australia|2023-01-15   |AustraliaPost|\n",
            "+-----------+-------------+-----------------+---------+--------+----------+----------+-------+----------+--------+------------+-----------+------+----------+--------------+-------+---------+------+------------------+-----------+----------------------+-------------+-------------+\n",
            "\n"
          ]
        }
      ],
      "source": [
        "from pyspark.sql import SparkSession\n",
        "from pyspark.sql.types import *\n",
        "import datetime\n",
        "\n",
        "spark = SparkSession.builder.getOrCreate()\n",
        "\n",
        "# ------------------- Customers -------------------\n",
        "customers_data = [\n",
        "    (1, \"Alice\", \"alice@example.com\", \"USA\"),\n",
        "    (2, \"Bob\", \"bob@example.com\", \"UK\"),\n",
        "    (3, \"Charlie\", None, \"India\"),\n",
        "    (4, \"David\", \"david@example.com\", \"Canada\"),\n",
        "    (5, \"Eva\", \"eva@example.com\", None),\n",
        "    (6, \"Frank\", \"frank@example.com\", \"Germany\"),\n",
        "    (7, \"Grace\", \"grace@example.com\", \"France\"),\n",
        "    (8, \"Henry\", \"henry@example.com\", \"Canada\"),\n",
        "    (9, \"Ivy\", \"ivy@example.com\", \"Russia\"),\n",
        "    (10, \"John\", None, \"Australia\"),\n",
        "]\n",
        "customers_schema = StructType([\n",
        "    StructField(\"customer_id\", IntegerType(), True),\n",
        "    StructField(\"name\", StringType(), True),\n",
        "    StructField(\"email\", StringType(), True),\n",
        "    StructField(\"country\", StringType(), True),\n",
        "])\n",
        "customers_df = spark.createDataFrame(customers_data, schema=customers_schema)\n",
        "customers_df.createOrReplaceTempView(\"customers\")\n",
        "\n",
        "# ------------------- Orders -------------------\n",
        "orders_data = [\n",
        "    (201, 1, datetime.date(2023, 1, 5), \"Shipped\"),\n",
        "    (202, 2, datetime.date(2023, 1, 6), \"Processing\"),\n",
        "    (203, 3, datetime.date(2023, 1, 7), \"Delivered\"),\n",
        "    (204, 4, datetime.date(2023, 1, 8), \"Cancelled\"),\n",
        "    (205, 5, datetime.date(2023, 1, 9), \"Shipped\"),\n",
        "    (206, 6, datetime.date(2023, 1, 10), \"Delivered\"),\n",
        "    (207, 7, datetime.date(2023, 1, 11), \"Shipped\"),\n",
        "    (208, 8, datetime.date(2023, 1, 12), \"Processing\"),\n",
        "    (209, 9, datetime.date(2023, 1, 13), \"Shipped\"),\n",
        "    (210, 10, datetime.date(2023, 1, 14), \"Delivered\"),\n",
        "]\n",
        "orders_schema = StructType([\n",
        "    StructField(\"order_id\", IntegerType(), True),\n",
        "    StructField(\"customer_id\", IntegerType(), True),\n",
        "    StructField(\"order_date\", DateType(), True),\n",
        "    StructField(\"status\", StringType(), True),\n",
        "])\n",
        "orders_df = spark.createDataFrame(orders_data, schema=orders_schema)\n",
        "orders_df.createOrReplaceTempView(\"orders\")\n",
        "\n",
        "# ------------------- Order Items -------------------\n",
        "order_items_data = [\n",
        "    (301, 201, 101, 2),\n",
        "    (302, 201, 102, 1),\n",
        "    (303, 202, 103, 1),\n",
        "    (304, 203, 104, 3),\n",
        "    (305, 204, 105, 1),\n",
        "    (306, 205, 106, 2),\n",
        "    (307, 206, 107, 1),\n",
        "    (308, 207, 108, 4),\n",
        "    (309, 208, 109, 2),\n",
        "    (310, 209, 110, 1),\n",
        "]\n",
        "order_items_schema = StructType([\n",
        "    StructField(\"item_id\", IntegerType(), True),\n",
        "    StructField(\"order_id\", IntegerType(), True),\n",
        "    StructField(\"product_id\", IntegerType(), True),\n",
        "    StructField(\"quantity\", IntegerType(), True),\n",
        "])\n",
        "order_items_df = spark.createDataFrame(order_items_data, schema=order_items_schema)\n",
        "order_items_df.createOrReplaceTempView(\"order_items\")\n",
        "\n",
        "# ------------------- Products -------------------\n",
        "products_data = [\n",
        "    (101, \"Laptop\", \"Electronics\", 999.99),\n",
        "    (102, \"Mouse\", \"Electronics\", 19.99),\n",
        "    (103, \"Keyboard\", \"Electronics\", 49.99),\n",
        "    (104, \"Monitor\", \"Electronics\", 199.99),\n",
        "    (105, \"Phone\", \"Electronics\", 699.99),\n",
        "    (106, \"Tablet\", \"Electronics\", 299.99),\n",
        "    (107, \"Printer\", \"Electronics\", 149.99),\n",
        "    (108, \"Headphones\", \"Electronics\", 89.99),\n",
        "    (109, \"Webcam\", \"Electronics\", 39.99),\n",
        "    (110, \"Charger\", \"Accessories\", None),\n",
        "]\n",
        "products_schema = StructType([\n",
        "    StructField(\"product_id\", IntegerType(), True),\n",
        "    StructField(\"product_name\", StringType(), True),\n",
        "    StructField(\"category\", StringType(), True),\n",
        "    StructField(\"price\", FloatType(), True),\n",
        "])\n",
        "products_df = spark.createDataFrame(products_data, schema=products_schema)\n",
        "products_df.createOrReplaceTempView(\"products\")\n",
        "\n",
        "# ------------------- Payments -------------------\n",
        "payments_data = [\n",
        "    (401, 201, \"Credit Card\", 1039.97),\n",
        "    (402, 202, \"PayPal\", 49.99),\n",
        "    (403, 203, \"Credit Card\", 599.97),\n",
        "    (404, 204, \"Debit Card\", 699.99),\n",
        "    (405, 205, \"PayPal\", 599.98),\n",
        "    (406, 206, \"UPI\", 149.99),\n",
        "    (407, 207, \"Credit Card\", 359.96),\n",
        "    (408, 208, \"Debit Card\", 79.98),\n",
        "    (409, 209, \"Credit Card\", 39.99),\n",
        "    (410, 210, \"PayPal\", 89.99),\n",
        "]\n",
        "payments_schema = StructType([\n",
        "    StructField(\"payment_id\", IntegerType(), True),\n",
        "    StructField(\"order_id\", IntegerType(), True),\n",
        "    StructField(\"payment_method\", StringType(), True),\n",
        "    StructField(\"amount\", FloatType(), True),\n",
        "])\n",
        "payments_df = spark.createDataFrame(payments_data, schema=payments_schema)\n",
        "payments_df.createOrReplaceTempView(\"payments\")\n",
        "\n",
        "# ------------------- Reviews -------------------\n",
        "reviews_data = [\n",
        "    (501, 101, 1, 5, \"Excellent product!\"),\n",
        "    (502, 102, 2, 4, \"Good value.\"),\n",
        "    (503, 103, 3, 3, \"Average quality.\"),\n",
        "    (504, 104, 4, None, \"No comment.\"),\n",
        "    (505, 105, 5, 2, \"Not satisfied.\"),\n",
        "    (506, 106, 6, 4, \"Very useful.\"),\n",
        "    (507, 107, 7, None, None),\n",
        "    (508, 108, 8, 5, \"Great screen.\"),\n",
        "    (509, 109, 9, 4, \"Works well.\"),\n",
        "    (510, 110, 10, 3, \"OK for the price.\"),\n",
        "]\n",
        "reviews_schema = StructType([\n",
        "    StructField(\"review_id\", IntegerType(), True),\n",
        "    StructField(\"product_id\", IntegerType(), True),\n",
        "    StructField(\"customer_id\", IntegerType(), True),\n",
        "    StructField(\"rating\", IntegerType(), True),\n",
        "    StructField(\"comment\", StringType(), True),\n",
        "])\n",
        "reviews_df = spark.createDataFrame(reviews_data, schema=reviews_schema)\n",
        "reviews_df.createOrReplaceTempView(\"reviews\")\n",
        "\n",
        "# ------------------- Shipping -------------------\n",
        "shipping_data = [\n",
        "    (601, 201, \"123 Main St, USA\", datetime.date(2023, 1, 6), \"FedEx\"),\n",
        "    (602, 202, \"456 Baker St, UK\", datetime.date(2023, 1, 7), \"DHL\"),\n",
        "    (603, 203, \"789 Hill Rd, India\", None, \"BlueDart\"),\n",
        "    (604, 204, \"12 King Ave, Canada\", datetime.date(2023, 1, 9), None),\n",
        "    (605, 205, \"99 Ocean Blvd, USA\", datetime.date(2023, 1, 10), \"USPS\"),\n",
        "    (606, 206, \"17 West Dr, Germany\", None, \"DHL\"),\n",
        "    (607, 207, \"22 East St, France\", datetime.date(2023, 1, 12), \"FedEx\"),\n",
        "    (608, 208, \"5 North Rd, Canada\", datetime.date(2023, 1, 13), \"UPS\"),\n",
        "    (609, 209, \"1 Central St, Russia\", None, \"RussianPost\"),\n",
        "    (610, 210, \"8 Lake View, Australia\", datetime.date(2023, 1, 15), \"AustraliaPost\"),\n",
        "]\n",
        "shipping_schema = StructType([\n",
        "    StructField(\"shipping_id\", IntegerType(), True),\n",
        "    StructField(\"order_id\", IntegerType(), True),\n",
        "    StructField(\"shipping_address\", StringType(), True),\n",
        "    StructField(\"shipping_date\", DateType(), True),\n",
        "    StructField(\"carrier\", StringType(), True),\n",
        "])\n",
        "shipping_df = spark.createDataFrame(shipping_data, schema=shipping_schema)\n",
        "shipping_df.createOrReplaceTempView(\"shipping\")\n",
        "\n",
        "# ------------------- Final Join Query -------------------\n",
        "query = \"\"\"\n",
        "SELECT\n",
        "    c.customer_id, c.name AS customer_name, c.email, c.country,\n",
        "    o.order_id, o.order_date, o.status,\n",
        "    oi.item_id, oi.product_id, oi.quantity,\n",
        "    p.product_name, p.category, p.price,\n",
        "    pay.payment_id, pay.payment_method, pay.amount,\n",
        "    r.review_id, r.rating, r.comment,\n",
        "    s.shipping_id, s.shipping_address, s.shipping_date, s.carrier\n",
        "FROM customers c\n",
        "FULL OUTER JOIN orders o ON c.customer_id = o.customer_id\n",
        "FULL OUTER JOIN order_items oi ON o.order_id = oi.order_id\n",
        "FULL OUTER JOIN products p ON oi.product_id = p.product_id\n",
        "FULL OUTER JOIN payments pay ON o.order_id = pay.order_id\n",
        "FULL OUTER JOIN reviews r ON r.customer_id = c.customer_id AND r.product_id = p.product_id\n",
        "FULL OUTER JOIN shipping s ON o.order_id = s.order_id\n",
        "\"\"\"\n",
        "joined_df = spark.sql(query)\n",
        "joined_df.show(truncate=False)\n",
        "\n"
      ]
    },
    {
      "cell_type": "markdown",
      "source": [
        "\n",
        "\n",
        "```\n",
        "Join Breakdown:\n",
        "customers to orders: customer_id (present in both customers and orders)\n",
        "\n",
        "orders to order_items: order_id (present in both orders and order_items)\n",
        "\n",
        "order_items to products: product_id (present in both order_items and products)\n",
        "\n",
        "orders to payments: order_id (present in both orders and payments)\n",
        "\n",
        "customers to reviews: customer_id (present in both customers and reviews)\n",
        "\n",
        "products to reviews: product_id (present in both products and reviews)\n",
        "\n",
        "orders to shipping: order_id (present in both orders and shipping)\n",
        "\n",
        "```\n",
        "\n"
      ],
      "metadata": {
        "id": "p5GwUbpDhLlZ"
      }
    },
    {
      "cell_type": "code",
      "source": [
        "#Find all customers who are from Canada.\n",
        "query = \"\"\"\n",
        "select *\n",
        "from customers\n",
        "where country = \"Canada\"\n",
        "\"\"\"\n",
        "joined_df = spark.sql(query)\n",
        "joined_df.show(truncate=False)\n"
      ],
      "metadata": {
        "id": "av1FW65tJgYs",
        "outputId": "d6b47c63-2a2b-4233-a4ae-3346b406d3da",
        "colab": {
          "base_uri": "https://localhost:8080/"
        }
      },
      "execution_count": 2,
      "outputs": [
        {
          "output_type": "stream",
          "name": "stdout",
          "text": [
            "+-----------+-----+-----------------+-------+\n",
            "|customer_id|name |email            |country|\n",
            "+-----------+-----+-----------------+-------+\n",
            "|4          |David|david@example.com|Canada |\n",
            "|8          |Henry|henry@example.com|Canada |\n",
            "+-----------+-----+-----------------+-------+\n",
            "\n"
          ]
        }
      ]
    },
    {
      "cell_type": "code",
      "source": [
        "# Get the first 5 products with the lowest price.\n",
        "query = \"\"\"\n",
        "select *\n",
        "from products\n",
        "order by price asc\n",
        "limit 5\n",
        "\"\"\"\n",
        "joined_df = spark.sql(query)\n",
        "joined_df.show(truncate=False)"
      ],
      "metadata": {
        "id": "-EPCVSBUKf23",
        "outputId": "a46e072e-6c87-42d6-c5eb-f220e41711d9",
        "colab": {
          "base_uri": "https://localhost:8080/"
        }
      },
      "execution_count": 3,
      "outputs": [
        {
          "output_type": "stream",
          "name": "stdout",
          "text": [
            "+----------+------------+-----------+-----+\n",
            "|product_id|product_name|category   |price|\n",
            "+----------+------------+-----------+-----+\n",
            "|110       |Charger     |Accessories|NULL |\n",
            "|102       |Mouse       |Electronics|19.99|\n",
            "|109       |Webcam      |Electronics|39.99|\n",
            "|103       |Keyboard    |Electronics|49.99|\n",
            "|108       |Headphones  |Electronics|89.99|\n",
            "+----------+------------+-----------+-----+\n",
            "\n"
          ]
        }
      ]
    },
    {
      "cell_type": "code",
      "source": [
        "#Get the 3 latest orders.\n",
        "query = \"\"\"\n",
        "select *\n",
        "from orders\n",
        "order by order_date desc\n",
        "limit 3\n",
        "\"\"\"\n",
        "joined_df = spark.sql(query)\n",
        "joined_df.show(truncate=False)"
      ],
      "metadata": {
        "id": "YIC5TrGWK-gr",
        "outputId": "e682390a-35ae-4db6-f141-3b50785939c1",
        "colab": {
          "base_uri": "https://localhost:8080/"
        }
      },
      "execution_count": 4,
      "outputs": [
        {
          "output_type": "stream",
          "name": "stdout",
          "text": [
            "+--------+-----------+----------+----------+\n",
            "|order_id|customer_id|order_date|status    |\n",
            "+--------+-----------+----------+----------+\n",
            "|210     |10         |2023-01-14|Delivered |\n",
            "|209     |9          |2023-01-13|Shipped   |\n",
            "|208     |8          |2023-01-12|Processing|\n",
            "+--------+-----------+----------+----------+\n",
            "\n"
          ]
        }
      ]
    },
    {
      "cell_type": "code",
      "source": [
        "#Find all orders that are 'Shipped'.\n",
        "\n",
        "query = \"\"\"\n",
        "select *\n",
        "from orders\n",
        "where status = 'Shipped'\n",
        "\"\"\"\n",
        "joined_df = spark.sql(query)\n",
        "joined_df.show(truncate=False)"
      ],
      "metadata": {
        "id": "xzBNLs7BLZlG",
        "outputId": "61638430-59dc-4919-cec1-866363c9bac7",
        "colab": {
          "base_uri": "https://localhost:8080/"
        }
      },
      "execution_count": 5,
      "outputs": [
        {
          "output_type": "stream",
          "name": "stdout",
          "text": [
            "+--------+-----------+----------+-------+\n",
            "|order_id|customer_id|order_date|status |\n",
            "+--------+-----------+----------+-------+\n",
            "|201     |1          |2023-01-05|Shipped|\n",
            "|205     |5          |2023-01-09|Shipped|\n",
            "|207     |7          |2023-01-11|Shipped|\n",
            "|209     |9          |2023-01-13|Shipped|\n",
            "+--------+-----------+----------+-------+\n",
            "\n"
          ]
        }
      ]
    },
    {
      "cell_type": "code",
      "source": [
        "#Show all products whose price is exactly 49.99\n",
        "query = \"\"\"\n",
        "select *\n",
        "from products\n",
        "where price ='49.99'\n",
        "\"\"\"\n",
        "joined_df = spark.sql(query)\n",
        "joined_df.show(truncate=False)"
      ],
      "metadata": {
        "id": "qjeaOKYhLxRl",
        "outputId": "f5b4570d-c7ff-44d4-adb0-cd9fa3a77c63",
        "colab": {
          "base_uri": "https://localhost:8080/"
        }
      },
      "execution_count": 6,
      "outputs": [
        {
          "output_type": "stream",
          "name": "stdout",
          "text": [
            "+----------+------------+-----------+-----+\n",
            "|product_id|product_name|category   |price|\n",
            "+----------+------------+-----------+-----+\n",
            "|103       |Keyboard    |Electronics|49.99|\n",
            "+----------+------------+-----------+-----+\n",
            "\n"
          ]
        }
      ]
    },
    {
      "cell_type": "code",
      "source": [
        "#Find all shipping records with carrier as 'DHL'.\n",
        "query = \"\"\"\n",
        "select *\n",
        "from shipping\n",
        "where carrier = 'DHL'\n",
        "\"\"\"\n",
        "joined_df = spark.sql(query)\n",
        "joined_df.show(truncate=False)"
      ],
      "metadata": {
        "id": "FONHfU-wMThd",
        "outputId": "fb3536bd-9177-498c-83b6-be668f3557d4",
        "colab": {
          "base_uri": "https://localhost:8080/"
        }
      },
      "execution_count": 7,
      "outputs": [
        {
          "output_type": "stream",
          "name": "stdout",
          "text": [
            "+-----------+--------+-------------------+-------------+-------+\n",
            "|shipping_id|order_id|shipping_address   |shipping_date|carrier|\n",
            "+-----------+--------+-------------------+-------------+-------+\n",
            "|602        |202     |456 Baker St, UK   |2023-01-07   |DHL    |\n",
            "|606        |206     |17 West Dr, Germany|NULL         |DHL    |\n",
            "+-----------+--------+-------------------+-------------+-------+\n",
            "\n"
          ]
        }
      ]
    },
    {
      "cell_type": "code",
      "source": [
        "#Find products with names starting with 'L'.\n",
        "query = \"\"\"\n",
        "select *\n",
        "from products\n",
        "where product_name like 'L%'\n",
        "\"\"\"\n",
        "joined_df = spark.sql(query)\n",
        "joined_df.show(truncate=False)"
      ],
      "metadata": {
        "id": "-Q9pkIIoMnIT",
        "outputId": "39cd6675-9550-4e7f-a101-654e7de8e930",
        "colab": {
          "base_uri": "https://localhost:8080/"
        }
      },
      "execution_count": 8,
      "outputs": [
        {
          "output_type": "stream",
          "name": "stdout",
          "text": [
            "+----------+------------+-----------+------+\n",
            "|product_id|product_name|category   |price |\n",
            "+----------+------------+-----------+------+\n",
            "|101       |Laptop      |Electronics|999.99|\n",
            "+----------+------------+-----------+------+\n",
            "\n"
          ]
        }
      ]
    },
    {
      "cell_type": "code",
      "source": [
        "#SELECT * FROM customers WHERE country IN ('Canada', 'USA', 'UK');\n",
        "query = \"\"\"\n",
        "select *\n",
        "from customers\n",
        "where country in('Canada', 'USA', 'UK');\n",
        "\"\"\"\n",
        "joined_df = spark.sql(query)\n",
        "joined_df.show(truncate=False)"
      ],
      "metadata": {
        "id": "FlVSWLpsLU-6",
        "outputId": "6993c133-ab05-4d99-d850-3a4901b7df99",
        "colab": {
          "base_uri": "https://localhost:8080/"
        }
      },
      "execution_count": 9,
      "outputs": [
        {
          "output_type": "stream",
          "name": "stdout",
          "text": [
            "+-----------+-----+-----------------+-------+\n",
            "|customer_id|name |email            |country|\n",
            "+-----------+-----+-----------------+-------+\n",
            "|1          |Alice|alice@example.com|USA    |\n",
            "|2          |Bob  |bob@example.com  |UK     |\n",
            "|4          |David|david@example.com|Canada |\n",
            "|8          |Henry|henry@example.com|Canada |\n",
            "+-----------+-----+-----------------+-------+\n",
            "\n"
          ]
        }
      ]
    },
    {
      "cell_type": "code",
      "source": [
        "#Show all orders with order_id between 202 and 206.\n",
        "query = \"\"\"\n",
        "select *\n",
        "from orders\n",
        "where order_id between 202 and 206\n",
        "\"\"\"\n",
        "joined_df = spark.sql(query)\n",
        "joined_df.show(truncate=False)"
      ],
      "metadata": {
        "id": "jaCUdgwNNcg1",
        "outputId": "bab6837c-7b57-4ab7-c819-abf5a1c66fe4",
        "colab": {
          "base_uri": "https://localhost:8080/"
        }
      },
      "execution_count": 10,
      "outputs": [
        {
          "output_type": "stream",
          "name": "stdout",
          "text": [
            "+--------+-----------+----------+----------+\n",
            "|order_id|customer_id|order_date|status    |\n",
            "+--------+-----------+----------+----------+\n",
            "|202     |2          |2023-01-06|Processing|\n",
            "|203     |3          |2023-01-07|Delivered |\n",
            "|204     |4          |2023-01-08|Cancelled |\n",
            "|205     |5          |2023-01-09|Shipped   |\n",
            "|206     |6          |2023-01-10|Delivered |\n",
            "+--------+-----------+----------+----------+\n",
            "\n"
          ]
        }
      ]
    },
    {
      "cell_type": "code",
      "source": [
        "#List products with category as 'Electronics' and price over 300.\n",
        "query = \"\"\"\n",
        "select product_name , category,price\n",
        "from products\n",
        "where category = 'Electronics' and price > 300\n",
        "\"\"\"\n",
        "joined_df = spark.sql(query)\n",
        "joined_df.show(truncate=False)"
      ],
      "metadata": {
        "id": "oJ_dKm8CORzW",
        "outputId": "f7bc78dc-17ef-4383-e6a2-89fd1075f3dd",
        "colab": {
          "base_uri": "https://localhost:8080/"
        }
      },
      "execution_count": 11,
      "outputs": [
        {
          "output_type": "stream",
          "name": "stdout",
          "text": [
            "+------------+-----------+------+\n",
            "|product_name|category   |price |\n",
            "+------------+-----------+------+\n",
            "|Laptop      |Electronics|999.99|\n",
            "|Phone       |Electronics|699.99|\n",
            "+------------+-----------+------+\n",
            "\n"
          ]
        }
      ]
    },
    {
      "cell_type": "code",
      "source": [
        "#Find customers whose country starts with 'C' or ends with 'a'.\n",
        "query = \"\"\"\n",
        "select *\n",
        "from customers\n",
        "where country like \"C%\" or country like \"%a\"\n",
        "\"\"\"\n",
        "joined_df = spark.sql(query)\n",
        "joined_df.show(truncate=False)"
      ],
      "metadata": {
        "id": "7aAbKQPGOyGd",
        "outputId": "a2676588-2593-434c-b7f1-f48e6f52a55b",
        "colab": {
          "base_uri": "https://localhost:8080/"
        }
      },
      "execution_count": 12,
      "outputs": [
        {
          "output_type": "stream",
          "name": "stdout",
          "text": [
            "+-----------+-------+-----------------+---------+\n",
            "|customer_id|name   |email            |country  |\n",
            "+-----------+-------+-----------------+---------+\n",
            "|3          |Charlie|NULL             |India    |\n",
            "|4          |David  |david@example.com|Canada   |\n",
            "|8          |Henry  |henry@example.com|Canada   |\n",
            "|9          |Ivy    |ivy@example.com  |Russia   |\n",
            "|10         |John   |NULL             |Australia|\n",
            "+-----------+-------+-----------------+---------+\n",
            "\n"
          ]
        }
      ]
    },
    {
      "cell_type": "code",
      "source": [
        "#Get all customer names with their order IDs\n",
        "query = \"\"\"\n",
        "select c.name, o.order_id\n",
        "from orders o\n",
        "join customers c on o.customer_id = c.customer_id\n",
        "\"\"\"\n",
        "joined_df = spark.sql(query)\n",
        "joined_df.show(truncate=False)"
      ],
      "metadata": {
        "id": "P5_ZC2dnPo_B",
        "outputId": "12a837c2-2341-4cc3-9233-b5fc889e2486",
        "colab": {
          "base_uri": "https://localhost:8080/"
        }
      },
      "execution_count": 13,
      "outputs": [
        {
          "output_type": "stream",
          "name": "stdout",
          "text": [
            "+-------+--------+\n",
            "|name   |order_id|\n",
            "+-------+--------+\n",
            "|Alice  |201     |\n",
            "|Bob    |202     |\n",
            "|Charlie|203     |\n",
            "|David  |204     |\n",
            "|Eva    |205     |\n",
            "|Frank  |206     |\n",
            "|Grace  |207     |\n",
            "|Henry  |208     |\n",
            "|Ivy    |209     |\n",
            "|John   |210     |\n",
            "+-------+--------+\n",
            "\n"
          ]
        }
      ]
    },
    {
      "cell_type": "code",
      "source": [
        "#Find customers who have never placed an order.\n",
        "query = \"\"\"\n",
        "select *\n",
        "from orders o\n",
        "join customers c on c.customer_id = o.customer_id\n",
        "where order_id is null\n",
        "\"\"\"\n",
        "joined_df = spark.sql(query)\n",
        "joined_df.show(truncate=False)"
      ],
      "metadata": {
        "id": "Npopn091QVNC",
        "outputId": "c7485499-6571-4f59-d8e7-9154607d961b",
        "colab": {
          "base_uri": "https://localhost:8080/"
        }
      },
      "execution_count": 14,
      "outputs": [
        {
          "output_type": "stream",
          "name": "stdout",
          "text": [
            "+--------+-----------+----------+------+-----------+----+-----+-------+\n",
            "|order_id|customer_id|order_date|status|customer_id|name|email|country|\n",
            "+--------+-----------+----------+------+-----------+----+-----+-------+\n",
            "+--------+-----------+----------+------+-----------+----+-----+-------+\n",
            "\n"
          ]
        }
      ]
    },
    {
      "cell_type": "code",
      "source": [
        "#Get all orders with their payment method and amount.\n",
        "\n",
        "query = \"\"\"\n",
        "select order_id , payment_method, amount\n",
        "from payments\n",
        "\"\"\"\n",
        "joined_df = spark.sql(query)\n",
        "joined_df.show(truncate=False)"
      ],
      "metadata": {
        "id": "JHVtgBwtRB_T",
        "outputId": "6573a7dd-dab8-4289-c0f3-b3ad10fa1918",
        "colab": {
          "base_uri": "https://localhost:8080/"
        }
      },
      "execution_count": 15,
      "outputs": [
        {
          "output_type": "stream",
          "name": "stdout",
          "text": [
            "+--------+--------------+-------+\n",
            "|order_id|payment_method|amount |\n",
            "+--------+--------------+-------+\n",
            "|201     |Credit Card   |1039.97|\n",
            "|202     |PayPal        |49.99  |\n",
            "|203     |Credit Card   |599.97 |\n",
            "|204     |Debit Card    |699.99 |\n",
            "|205     |PayPal        |599.98 |\n",
            "|206     |UPI           |149.99 |\n",
            "|207     |Credit Card   |359.96 |\n",
            "|208     |Debit Card    |79.98  |\n",
            "|209     |Credit Card   |39.99  |\n",
            "|210     |PayPal        |89.99  |\n",
            "+--------+--------------+-------+\n",
            "\n"
          ]
        }
      ]
    },
    {
      "cell_type": "code",
      "source": [
        "#List customer name, order date, and shipping carrier.\n",
        "query = \"\"\"\n",
        "select c.name,o.order_date,s.carrier\n",
        "from customers c\n",
        "join orders o on c.customer_id = o.customer_id\n",
        "join shipping s on s.order_id = o.order_id\n",
        "\n",
        "\"\"\"\n",
        "joined_df = spark.sql(query)\n",
        "joined_df.show(truncate=False)"
      ],
      "metadata": {
        "id": "BnI5zBy6SmQR",
        "outputId": "b822f0c0-7862-4ae1-d437-b7699ff7ed72",
        "colab": {
          "base_uri": "https://localhost:8080/"
        }
      },
      "execution_count": 16,
      "outputs": [
        {
          "output_type": "stream",
          "name": "stdout",
          "text": [
            "+-------+----------+-------------+\n",
            "|name   |order_date|carrier      |\n",
            "+-------+----------+-------------+\n",
            "|Eva    |2023-01-09|USPS         |\n",
            "|Bob    |2023-01-06|DHL          |\n",
            "|Charlie|2023-01-07|BlueDart     |\n",
            "|David  |2023-01-08|NULL         |\n",
            "|Alice  |2023-01-05|FedEx        |\n",
            "|John   |2023-01-14|AustraliaPost|\n",
            "|Ivy    |2023-01-13|RussianPost  |\n",
            "|Frank  |2023-01-10|DHL          |\n",
            "|Grace  |2023-01-11|FedEx        |\n",
            "|Henry  |2023-01-12|UPS          |\n",
            "+-------+----------+-------------+\n",
            "\n"
          ]
        }
      ]
    },
    {
      "cell_type": "code",
      "source": [
        "#Get a list of customers and their product reviews.\n",
        "\n",
        "\n",
        "query = \"\"\"\n",
        "select c.name , r.product_id,r.rating\n",
        "from customers c\n",
        "join reviews r on c.customer_id = r.customer_id\n",
        "\n",
        "\"\"\"\n",
        "joined_df = spark.sql(query)\n",
        "joined_df.show(truncate=False)"
      ],
      "metadata": {
        "id": "F6p3f8PMUSHu",
        "outputId": "fc49e8b0-4bb8-42ca-ddab-8148e12eeb71",
        "colab": {
          "base_uri": "https://localhost:8080/"
        }
      },
      "execution_count": 17,
      "outputs": [
        {
          "output_type": "stream",
          "name": "stdout",
          "text": [
            "+-------+----------+------+\n",
            "|name   |product_id|rating|\n",
            "+-------+----------+------+\n",
            "|Alice  |101       |5     |\n",
            "|Bob    |102       |4     |\n",
            "|Charlie|103       |3     |\n",
            "|David  |104       |NULL  |\n",
            "|Eva    |105       |2     |\n",
            "|Frank  |106       |4     |\n",
            "|Grace  |107       |NULL  |\n",
            "|Henry  |108       |5     |\n",
            "|Ivy    |109       |4     |\n",
            "|John   |110       |3     |\n",
            "+-------+----------+------+\n",
            "\n"
          ]
        }
      ]
    },
    {
      "cell_type": "code",
      "source": [
        "#Get all customers and their shipping addresses.\n",
        "query = \"\"\"\n",
        "select c.name , s.shipping_address\n",
        "from customers c\n",
        "join orders o on c.customer_id = o.customer_id\n",
        "join shipping s on o.order_id = s.order_id\n",
        "\n",
        "\"\"\"\n",
        "joined_df = spark.sql(query)\n",
        "joined_df.show(truncate=False)"
      ],
      "metadata": {
        "id": "pN7DUsasVRiW",
        "outputId": "36fe78b4-1c27-4b65-d46a-96a415e4f144",
        "colab": {
          "base_uri": "https://localhost:8080/"
        }
      },
      "execution_count": 18,
      "outputs": [
        {
          "output_type": "stream",
          "name": "stdout",
          "text": [
            "+-------+----------------------+\n",
            "|name   |shipping_address      |\n",
            "+-------+----------------------+\n",
            "|Eva    |99 Ocean Blvd, USA    |\n",
            "|Bob    |456 Baker St, UK      |\n",
            "|Charlie|789 Hill Rd, India    |\n",
            "|David  |12 King Ave, Canada   |\n",
            "|Alice  |123 Main St, USA      |\n",
            "|John   |8 Lake View, Australia|\n",
            "|Ivy    |1 Central St, Russia  |\n",
            "|Frank  |17 West Dr, Germany   |\n",
            "|Grace  |22 East St, France    |\n",
            "|Henry  |5 North Rd, Canada    |\n",
            "+-------+----------------------+\n",
            "\n"
          ]
        }
      ]
    },
    {
      "cell_type": "code",
      "source": [
        "#Get all payment methods used by customers from 'India'.\n",
        "query = \"\"\"\n",
        "select p.payment_method , c.country\n",
        "from payments p\n",
        "join orders o on o.order_id = p.order_id\n",
        "join customers c on c.customer_id = o.customer_id\n",
        "where country = 'India'\n",
        "\n",
        "\"\"\"\n",
        "joined_df = spark.sql(query)\n",
        "joined_df.show(truncate=False)"
      ],
      "metadata": {
        "id": "B66XObLKWoES",
        "outputId": "944f2757-285a-43d8-ca6b-81273c546986",
        "colab": {
          "base_uri": "https://localhost:8080/"
        }
      },
      "execution_count": 19,
      "outputs": [
        {
          "output_type": "stream",
          "name": "stdout",
          "text": [
            "+--------------+-------+\n",
            "|payment_method|country|\n",
            "+--------------+-------+\n",
            "|Credit Card   |India  |\n",
            "+--------------+-------+\n",
            "\n"
          ]
        }
      ]
    },
    {
      "cell_type": "code",
      "source": [
        "#List customer names and their total spending (sum of payments).\n",
        "\n",
        "query = \"\"\"\n",
        "select c.name, p.amount\n",
        "from payments p\n",
        "join orders o on o.order_id = p.order_id\n",
        "join customers c on c.customer_id = o.customer_id\n",
        "\n",
        "\"\"\"\n",
        "joined_df = spark.sql(query)\n",
        "joined_df.show(truncate=False)"
      ],
      "metadata": {
        "id": "97wiiLjGaMDM",
        "outputId": "927a35ff-7e16-437a-c498-857943fe31e6",
        "colab": {
          "base_uri": "https://localhost:8080/"
        }
      },
      "execution_count": 20,
      "outputs": [
        {
          "output_type": "stream",
          "name": "stdout",
          "text": [
            "+-------+-------+\n",
            "|name   |amount |\n",
            "+-------+-------+\n",
            "|Alice  |1039.97|\n",
            "|Charlie|599.97 |\n",
            "|Eva    |599.98 |\n",
            "|David  |699.99 |\n",
            "|Bob    |49.99  |\n",
            "|Frank  |149.99 |\n",
            "|Ivy    |39.99  |\n",
            "|Henry  |79.98  |\n",
            "|Grace  |359.96 |\n",
            "|John   |89.99  |\n",
            "+-------+-------+\n",
            "\n"
          ]
        }
      ]
    },
    {
      "cell_type": "code",
      "source": [
        "query = \"\"\"\n",
        "select *\n",
        "from payments\n",
        "\"\"\"\n",
        "joined_df = spark.sql(query)\n",
        "joined_df.show(truncate=False)"
      ],
      "metadata": {
        "id": "adWfpakuQF-H",
        "outputId": "0ac3317b-63ad-47cc-de35-7637bdd39636",
        "colab": {
          "base_uri": "https://localhost:8080/"
        }
      },
      "execution_count": 21,
      "outputs": [
        {
          "output_type": "stream",
          "name": "stdout",
          "text": [
            "+----------+--------+--------------+-------+\n",
            "|payment_id|order_id|payment_method|amount |\n",
            "+----------+--------+--------------+-------+\n",
            "|401       |201     |Credit Card   |1039.97|\n",
            "|402       |202     |PayPal        |49.99  |\n",
            "|403       |203     |Credit Card   |599.97 |\n",
            "|404       |204     |Debit Card    |699.99 |\n",
            "|405       |205     |PayPal        |599.98 |\n",
            "|406       |206     |UPI           |149.99 |\n",
            "|407       |207     |Credit Card   |359.96 |\n",
            "|408       |208     |Debit Card    |79.98  |\n",
            "|409       |209     |Credit Card   |39.99  |\n",
            "|410       |210     |PayPal        |89.99  |\n",
            "+----------+--------+--------------+-------+\n",
            "\n"
          ]
        }
      ]
    },
    {
      "cell_type": "code",
      "source": [],
      "metadata": {
        "id": "b0F4dyOcvHyJ"
      },
      "execution_count": 21,
      "outputs": []
    },
    {
      "cell_type": "code",
      "source": [
        "#Get customer name, product, and payment amount for each order.\n",
        "query = \"\"\"\n",
        "select c.name , p.product_name, pa.amount\n",
        "from customers c\n",
        "join orders o on o.customer_id = c.customer_id\n",
        "join order_items oi on oi.order_id  = o.order_id\n",
        "join products p on p.product_id = oi.product_id\n",
        "join payments pa on pa.order_id = o.order_id;\n",
        "\"\"\"\n",
        "joined_df = spark.sql(query)\n",
        "joined_df.show(truncate=False)"
      ],
      "metadata": {
        "id": "6mE9WLvouwIF",
        "outputId": "cc14c3bb-ee34-45e1-ed03-d2144e757b6c",
        "colab": {
          "base_uri": "https://localhost:8080/"
        }
      },
      "execution_count": 22,
      "outputs": [
        {
          "output_type": "stream",
          "name": "stdout",
          "text": [
            "+-------+------------+-------+\n",
            "|name   |product_name|amount |\n",
            "+-------+------------+-------+\n",
            "|Eva    |Tablet      |599.98 |\n",
            "|Bob    |Keyboard    |49.99  |\n",
            "|Charlie|Monitor     |599.97 |\n",
            "|David  |Phone       |699.99 |\n",
            "|Alice  |Mouse       |1039.97|\n",
            "|Alice  |Laptop      |1039.97|\n",
            "|Ivy    |Charger     |39.99  |\n",
            "|Frank  |Printer     |149.99 |\n",
            "|Grace  |Headphones  |359.96 |\n",
            "|Henry  |Webcam      |79.98  |\n",
            "+-------+------------+-------+\n",
            "\n"
          ]
        }
      ]
    },
    {
      "cell_type": "code",
      "source": [
        "#Find products ordered by customers from 'Canada'.\n",
        "query = \"\"\"\n",
        "select *\n",
        "from orders o\n",
        "join customers c on c.customer_id = o.customer_id\n",
        "join order_items oi on oi.order_id = o.order_id\n",
        "join products p on p.product_id = oi.product_id\n",
        "where country = 'Canada'\n",
        "\"\"\"\n",
        "joined_df = spark.sql(query)\n",
        "joined_df.show(truncate=False)"
      ],
      "metadata": {
        "id": "Gnf6hCYbni6B",
        "outputId": "30dd8035-4175-4a5d-d8db-b13a85039ec2",
        "colab": {
          "base_uri": "https://localhost:8080/"
        }
      },
      "execution_count": 23,
      "outputs": [
        {
          "output_type": "stream",
          "name": "stdout",
          "text": [
            "+--------+-----------+----------+----------+-----------+-----+-----------------+-------+-------+--------+----------+--------+----------+------------+-----------+------+\n",
            "|order_id|customer_id|order_date|status    |customer_id|name |email            |country|item_id|order_id|product_id|quantity|product_id|product_name|category   |price |\n",
            "+--------+-----------+----------+----------+-----------+-----+-----------------+-------+-------+--------+----------+--------+----------+------------+-----------+------+\n",
            "|204     |4          |2023-01-08|Cancelled |4          |David|david@example.com|Canada |305    |204     |105       |1       |105       |Phone       |Electronics|699.99|\n",
            "|208     |8          |2023-01-12|Processing|8          |Henry|henry@example.com|Canada |309    |208     |109       |2       |109       |Webcam      |Electronics|39.99 |\n",
            "+--------+-----------+----------+----------+-----------+-----+-----------------+-------+-------+--------+----------+--------+----------+------------+-----------+------+\n",
            "\n"
          ]
        }
      ]
    },
    {
      "cell_type": "code",
      "source": [
        "query = \"\"\"\n",
        "SELECT c.name, p.product_name, SUM(pay.amount) AS total_spent\n",
        "FROM customers c\n",
        "JOIN orders o ON c.customer_id = o.customer_id\n",
        "JOIN payments pay ON o.order_id = pay.order_id\n",
        "JOIN order_items oi ON o.order_id = oi.order_id\n",
        "JOIN products p ON oi.product_id = p.product_id\n",
        "GROUP BY c.name, p.product_name;\n",
        "\n",
        "\"\"\"\n",
        "joined_df = spark.sql(query)\n",
        "joined_df.show()"
      ],
      "metadata": {
        "id": "QWo6Fbwm6D0q",
        "outputId": "7d677d3a-4e6a-4828-e2d2-ee65dbba1302",
        "colab": {
          "base_uri": "https://localhost:8080/"
        }
      },
      "execution_count": 24,
      "outputs": [
        {
          "output_type": "stream",
          "name": "stdout",
          "text": [
            "+-------+------------+------------------+\n",
            "|   name|product_name|       total_spent|\n",
            "+-------+------------+------------------+\n",
            "|  Grace|  Headphones| 359.9599914550781|\n",
            "|  David|       Phone|  699.989990234375|\n",
            "|Charlie|     Monitor|  599.969970703125|\n",
            "|    Ivy|     Charger|  39.9900016784668|\n",
            "|  Alice|       Mouse| 1039.969970703125|\n",
            "|  Frank|     Printer|149.99000549316406|\n",
            "|  Alice|      Laptop| 1039.969970703125|\n",
            "|    Eva|      Tablet|   599.97998046875|\n",
            "|  Henry|      Webcam|  79.9800033569336|\n",
            "|    Bob|    Keyboard|  49.9900016784668|\n",
            "+-------+------------+------------------+\n",
            "\n"
          ]
        }
      ]
    },
    {
      "cell_type": "code",
      "source": [
        "#Find product names ordered by customers who also reviewed them with rating > 4\n",
        "query = \"\"\"\n",
        "select\n",
        "p.product_name,\n",
        "c.name,\n",
        "r.rating\n",
        "from products p\n",
        "join order_items oi on oi.product_id = p.product_id\n",
        "join orders o on o.order_id = oi.order_id\n",
        "join customers c on c.customer_id = o.customer_id\n",
        "join reviews r on r.product_id = p.product_id\n",
        "WHERE r.rating > 4\n",
        "\"\"\"\n",
        "joined_df = spark.sql(query)\n",
        "joined_df.show()"
      ],
      "metadata": {
        "id": "tnLPL8AnsISy",
        "outputId": "a95635e6-ec0f-43f8-bd4e-8a74239ddd37",
        "colab": {
          "base_uri": "https://localhost:8080/"
        }
      },
      "execution_count": 25,
      "outputs": [
        {
          "output_type": "stream",
          "name": "stdout",
          "text": [
            "+------------+-----+------+\n",
            "|product_name| name|rating|\n",
            "+------------+-----+------+\n",
            "|      Laptop|Alice|     5|\n",
            "|  Headphones|Grace|     5|\n",
            "+------------+-----+------+\n",
            "\n"
          ]
        }
      ]
    },
    {
      "cell_type": "code",
      "source": [
        "#Find orders where all products in the order were rated 5 by the customer.\n",
        "query = \"\"\"\n",
        "select\n",
        "p.product_name,\n",
        "c.name,\n",
        "r.rating\n",
        "from products p\n",
        "join order_items oi on oi.product_id = p.product_id\n",
        "join orders o on o.order_id = oi.order_id\n",
        "join customers c on c.customer_id = o.customer_id\n",
        "join reviews r on r.product_id = p.product_id\n",
        "WHERE r.rating = 5\n",
        "\"\"\"\n",
        "joined_df = spark.sql(query)\n",
        "joined_df.show()"
      ],
      "metadata": {
        "id": "9XroVuSa6W3p",
        "outputId": "35d7a9ab-10b2-471d-91ab-d004713702c9",
        "colab": {
          "base_uri": "https://localhost:8080/"
        }
      },
      "execution_count": 26,
      "outputs": [
        {
          "output_type": "stream",
          "name": "stdout",
          "text": [
            "+------------+-----+------+\n",
            "|product_name| name|rating|\n",
            "+------------+-----+------+\n",
            "|      Laptop|Alice|     5|\n",
            "|  Headphones|Grace|     5|\n",
            "+------------+-----+------+\n",
            "\n"
          ]
        }
      ]
    },
    {
      "cell_type": "code",
      "source": [
        "#Find top 3 customers who spent the most.\n",
        "query = \"\"\"\n",
        "select c.name , p.amount\n",
        "from customers c\n",
        "join orders o on c.customer_id  = o.customer_id\n",
        "join payments p on p.order_id = o.order_id\n",
        "order by p.amount desc\n",
        "limit 3\n",
        "\"\"\"\n",
        "joined_df = spark.sql(query)\n",
        "joined_df.show()"
      ],
      "metadata": {
        "id": "k0S4_GWhp4Pi",
        "outputId": "9665e1eb-a608-478e-f91c-3e7f970a6db9",
        "colab": {
          "base_uri": "https://localhost:8080/"
        }
      },
      "execution_count": 27,
      "outputs": [
        {
          "output_type": "stream",
          "name": "stdout",
          "text": [
            "+-----+-------+\n",
            "| name| amount|\n",
            "+-----+-------+\n",
            "|Alice|1039.97|\n",
            "|David| 699.99|\n",
            "|  Eva| 599.98|\n",
            "+-----+-------+\n",
            "\n"
          ]
        }
      ]
    },
    {
      "cell_type": "code",
      "source": [
        "#Find the month-wise revenue generated.\n",
        "query = \"\"\"\n",
        "SELECT\n",
        "    date_format(o.order_date, 'yyyy-MM') AS month,\n",
        "    SUM(oi.quantity * p.price) AS total_revenue\n",
        "FROM orders o\n",
        "JOIN order_items oi ON o.order_id = oi.order_id\n",
        "JOIN products p ON oi.product_id = p.product_id\n",
        "GROUP BY date_format(o.order_date, 'yyyy-MM')\n",
        "ORDER BY month;\n",
        "\n",
        "\n",
        "\"\"\"\n",
        "joined_df = spark.sql(query)\n",
        "joined_df.show()"
      ],
      "metadata": {
        "id": "nVlzcw9LqKeQ",
        "outputId": "be6555a4-bec3-474d-c268-8148dd2fa5b4",
        "colab": {
          "base_uri": "https://localhost:8080/"
        }
      },
      "execution_count": 28,
      "outputs": [
        {
          "output_type": "stream",
          "name": "stdout",
          "text": [
            "+-------+-----------------+\n",
            "|  month|    total_revenue|\n",
            "+-------+-----------------+\n",
            "|2023-01|4559.829984664917|\n",
            "+-------+-----------------+\n",
            "\n"
          ]
        }
      ]
    },
    {
      "cell_type": "code",
      "source": [],
      "metadata": {
        "id": "9nWf8VZO44un"
      },
      "execution_count": 28,
      "outputs": []
    },
    {
      "cell_type": "code",
      "source": [
        "#Show the product with the highest average review rating.\n",
        "\n",
        "query = \"\"\"\n",
        "select p.product_name, avg(r.rating) as avg_rating_score\n",
        "from products p\n",
        "join reviews r on  r.product_id = p.product_id\n",
        "group by p.product_name\n",
        "order by avg_rating_score desc\n",
        "limit 1\n",
        "\"\"\"\n",
        "joined_df = spark.sql(query)\n",
        "joined_df.show()"
      ],
      "metadata": {
        "id": "UwOCOXO5v-PN",
        "outputId": "4b64fcf9-57b9-4cba-d1d3-37999e5d087f",
        "colab": {
          "base_uri": "https://localhost:8080/"
        }
      },
      "execution_count": 29,
      "outputs": [
        {
          "output_type": "stream",
          "name": "stdout",
          "text": [
            "+------------+----------------+\n",
            "|product_name|avg_rating_score|\n",
            "+------------+----------------+\n",
            "|      Laptop|             5.0|\n",
            "+------------+----------------+\n",
            "\n"
          ]
        }
      ]
    },
    {
      "cell_type": "code",
      "source": [
        "#List customers who placed orders using only 'Credit Card\n",
        "query = \"\"\"\n",
        "select c.name , p.payment_method\n",
        "from customers c\n",
        "join orders o on o.customer_id = c.customer_id\n",
        "join payments p on o.order_id = p.order_id\n",
        "where payment_method= 'Credit Card'\n",
        "\"\"\"\n",
        "joined_df = spark.sql(query)\n",
        "joined_df.show()"
      ],
      "metadata": {
        "id": "3rIhHV50ygdO",
        "outputId": "ddaadf8d-1e8f-4f57-f3fe-a9572eaff09d",
        "colab": {
          "base_uri": "https://localhost:8080/"
        }
      },
      "execution_count": 30,
      "outputs": [
        {
          "output_type": "stream",
          "name": "stdout",
          "text": [
            "+-------+--------------+\n",
            "|   name|payment_method|\n",
            "+-------+--------------+\n",
            "|Charlie|   Credit Card|\n",
            "|  Alice|   Credit Card|\n",
            "|    Ivy|   Credit Card|\n",
            "|  Grace|   Credit Card|\n",
            "+-------+--------------+\n",
            "\n"
          ]
        }
      ]
    },
    {
      "cell_type": "code",
      "source": [
        "#Find the total revenue per country.\n",
        "query = \"\"\"\n",
        "select c.country, sum(p.amount) as total_rev\n",
        "from customers c\n",
        "join orders o on c.customer_id = o.customer_id\n",
        "join payments p on p.order_id = o.order_id\n",
        "group by c.country\n",
        "order by total_rev desc\n",
        "\n",
        "\"\"\"\n",
        "joined_df = spark.sql(query)\n",
        "joined_df.show()"
      ],
      "metadata": {
        "id": "J0vBsCvvwEkl",
        "outputId": "3205f9b5-9bc2-43df-bf8b-c1d6fbbd7ed1",
        "colab": {
          "base_uri": "https://localhost:8080/"
        }
      },
      "execution_count": 31,
      "outputs": [
        {
          "output_type": "stream",
          "name": "stdout",
          "text": [
            "+---------+------------------+\n",
            "|  country|         total_rev|\n",
            "+---------+------------------+\n",
            "|      USA| 1039.969970703125|\n",
            "|   Canada| 779.9699935913086|\n",
            "|     NULL|   599.97998046875|\n",
            "|    India|  599.969970703125|\n",
            "|   France| 359.9599914550781|\n",
            "|  Germany|149.99000549316406|\n",
            "|Australia| 89.98999786376953|\n",
            "|       UK|  49.9900016784668|\n",
            "|   Russia|  39.9900016784668|\n",
            "+---------+------------------+\n",
            "\n"
          ]
        }
      ]
    },
    {
      "cell_type": "code",
      "source": [
        "#Which product has the highest average rating from customers in Canada?\n",
        "query = \"\"\"\n",
        "select p.product_name , avg(r.rating) AS highest_rating_avg\n",
        "from reviews r\n",
        "join customers c on c.customer_id = r.customer_id\n",
        "join products p on p.product_id  = r.product_id\n",
        "where c.country = 'Canada' and r.rating is not null\n",
        "group by p.product_name\n",
        "\"\"\"\n",
        "joined_df = spark.sql(query)\n",
        "joined_df.show()"
      ],
      "metadata": {
        "id": "ipkuy6rM5yzv",
        "outputId": "8a9288d5-8d36-42c1-c849-e423dc4611c0",
        "colab": {
          "base_uri": "https://localhost:8080/"
        }
      },
      "execution_count": 32,
      "outputs": [
        {
          "output_type": "stream",
          "name": "stdout",
          "text": [
            "+------------+------------------+\n",
            "|product_name|highest_rating_avg|\n",
            "+------------+------------------+\n",
            "|  Headphones|               5.0|\n",
            "+------------+------------------+\n",
            "\n"
          ]
        }
      ]
    },
    {
      "cell_type": "code",
      "source": [
        "#Find the total revenue per country.\n",
        "query = \"\"\"\n",
        "select *\n",
        "from products\n",
        "\n",
        "\"\"\"\n",
        "joined_df = spark.sql(query)\n",
        "joined_df.show()"
      ],
      "metadata": {
        "id": "HOGq-fQ83I6-",
        "outputId": "fd5a1b8c-73ea-45e9-e135-9f9a8e8c0401",
        "colab": {
          "base_uri": "https://localhost:8080/"
        }
      },
      "execution_count": 33,
      "outputs": [
        {
          "output_type": "stream",
          "name": "stdout",
          "text": [
            "+----------+------------+-----------+------+\n",
            "|product_id|product_name|   category| price|\n",
            "+----------+------------+-----------+------+\n",
            "|       101|      Laptop|Electronics|999.99|\n",
            "|       102|       Mouse|Electronics| 19.99|\n",
            "|       103|    Keyboard|Electronics| 49.99|\n",
            "|       104|     Monitor|Electronics|199.99|\n",
            "|       105|       Phone|Electronics|699.99|\n",
            "|       106|      Tablet|Electronics|299.99|\n",
            "|       107|     Printer|Electronics|149.99|\n",
            "|       108|  Headphones|Electronics| 89.99|\n",
            "|       109|      Webcam|Electronics| 39.99|\n",
            "|       110|     Charger|Accessories|  NULL|\n",
            "+----------+------------+-----------+------+\n",
            "\n"
          ]
        }
      ]
    },
    {
      "cell_type": "markdown",
      "source": [
        "Show all orders with their corresponding customer names and email addresses.\n",
        "\n",
        "List all products that have been ordered, including products that haven't been ordered.\n",
        "\n",
        "Display all customers along with their payment methods (if any).\n",
        "\n",
        "Find all orders that have shipping information, showing order date and shipping date.\n",
        "\n",
        "List all reviews with the corresponding product names and customer names."
      ],
      "metadata": {
        "id": "39AUujx0471R"
      }
    },
    {
      "cell_type": "code",
      "source": [
        "#Show all orders with their corresponding customer names and email addresses.\n",
        "query = \"\"\"\n",
        "SELECT o.order_id, c.name, c.email\n",
        "from orders o\n",
        "join customers c on c.customer_id = o.customer_id\n",
        "where email is not null\n",
        "\"\"\"\n",
        "joined_df = spark.sql(query)\n",
        "joined_df.show()"
      ],
      "metadata": {
        "id": "7arxpYRz48mC",
        "outputId": "c027cdbf-0082-46e8-9570-447740d7fdfa",
        "colab": {
          "base_uri": "https://localhost:8080/"
        }
      },
      "execution_count": 34,
      "outputs": [
        {
          "output_type": "stream",
          "name": "stdout",
          "text": [
            "+--------+-----+-----------------+\n",
            "|order_id| name|            email|\n",
            "+--------+-----+-----------------+\n",
            "|     201|Alice|alice@example.com|\n",
            "|     202|  Bob|  bob@example.com|\n",
            "|     204|David|david@example.com|\n",
            "|     205|  Eva|  eva@example.com|\n",
            "|     206|Frank|frank@example.com|\n",
            "|     207|Grace|grace@example.com|\n",
            "|     208|Henry|henry@example.com|\n",
            "|     209|  Ivy|  ivy@example.com|\n",
            "+--------+-----+-----------------+\n",
            "\n"
          ]
        }
      ]
    },
    {
      "cell_type": "code",
      "source": [
        "#List all products that have been ordered, including products that haven't been ordered.\n",
        "query = \"\"\"\n",
        "select o.order_id,p.product_name , o.status\n",
        "from products p\n",
        "join order_items oi on oi.product_id = p.product_id\n",
        "join orders o on o.order_id = oi.order_id\n",
        "where o.status = 'Shipped'\n",
        "\n",
        "\"\"\"\n",
        "joined_df = spark.sql(query)\n",
        "joined_df.show()"
      ],
      "metadata": {
        "id": "Iw9wz_4O7IKq",
        "outputId": "efd98528-de3f-457d-b7cf-d01d1d4219e7",
        "colab": {
          "base_uri": "https://localhost:8080/"
        }
      },
      "execution_count": 35,
      "outputs": [
        {
          "output_type": "stream",
          "name": "stdout",
          "text": [
            "+--------+------------+-------+\n",
            "|order_id|product_name| status|\n",
            "+--------+------------+-------+\n",
            "|     205|      Tablet|Shipped|\n",
            "|     201|       Mouse|Shipped|\n",
            "|     201|      Laptop|Shipped|\n",
            "|     209|     Charger|Shipped|\n",
            "|     207|  Headphones|Shipped|\n",
            "+--------+------------+-------+\n",
            "\n"
          ]
        }
      ]
    },
    {
      "cell_type": "code",
      "source": [
        "#Display all customers along with their payment methods (if any).\n",
        "query = \"\"\"\n",
        "select c.name , p.payment_method\n",
        "from payments p\n",
        "join orders o on o.order_id = p.order_id\n",
        "join customers c on c.customer_id = o.customer_id\n",
        "\n",
        "\"\"\"\n",
        "joined_df = spark.sql(query)\n",
        "joined_df.show()"
      ],
      "metadata": {
        "id": "o99iHs4HE4JD",
        "outputId": "0ffebae6-a870-43da-8fd1-770928650cd1",
        "colab": {
          "base_uri": "https://localhost:8080/"
        }
      },
      "execution_count": 36,
      "outputs": [
        {
          "output_type": "stream",
          "name": "stdout",
          "text": [
            "+-------+--------------+\n",
            "|   name|payment_method|\n",
            "+-------+--------------+\n",
            "|  Alice|   Credit Card|\n",
            "|Charlie|   Credit Card|\n",
            "|    Eva|        PayPal|\n",
            "|  David|    Debit Card|\n",
            "|    Bob|        PayPal|\n",
            "|  Frank|           UPI|\n",
            "|    Ivy|   Credit Card|\n",
            "|  Henry|    Debit Card|\n",
            "|  Grace|   Credit Card|\n",
            "|   John|        PayPal|\n",
            "+-------+--------------+\n",
            "\n"
          ]
        }
      ]
    },
    {
      "cell_type": "code",
      "source": [
        "#Find all orders that have shipping information, showing order date and shipping date.\n",
        "query = \"\"\"\n",
        "SELECT o.order_date, s.shipping_date\n",
        "FROM shipping s\n",
        "join orders o on o.order_id = s.order_id\n",
        "\"\"\"\n",
        "joined_df = spark.sql(query)\n",
        "joined_df.show()"
      ],
      "metadata": {
        "id": "j7jh0zxWGGWA",
        "outputId": "290110c9-ffb4-4c62-d8b9-4cbc24164c2e",
        "colab": {
          "base_uri": "https://localhost:8080/"
        }
      },
      "execution_count": 37,
      "outputs": [
        {
          "output_type": "stream",
          "name": "stdout",
          "text": [
            "+----------+-------------+\n",
            "|order_date|shipping_date|\n",
            "+----------+-------------+\n",
            "|2023-01-05|   2023-01-06|\n",
            "|2023-01-06|   2023-01-07|\n",
            "|2023-01-07|         NULL|\n",
            "|2023-01-08|   2023-01-09|\n",
            "|2023-01-09|   2023-01-10|\n",
            "|2023-01-10|         NULL|\n",
            "|2023-01-11|   2023-01-12|\n",
            "|2023-01-12|   2023-01-13|\n",
            "|2023-01-13|         NULL|\n",
            "|2023-01-14|   2023-01-15|\n",
            "+----------+-------------+\n",
            "\n"
          ]
        }
      ]
    },
    {
      "cell_type": "code",
      "source": [
        "query = \"\"\"\n",
        "SELECT *\n",
        "FROM shipping\n",
        "\"\"\"\n",
        "joined_df = spark.sql(query)\n",
        "joined_df.show()"
      ],
      "metadata": {
        "id": "MhBD_rjn5xhK",
        "outputId": "b9f3932b-90fd-474c-c84f-a616b4b6c960",
        "colab": {
          "base_uri": "https://localhost:8080/"
        }
      },
      "execution_count": 38,
      "outputs": [
        {
          "output_type": "stream",
          "name": "stdout",
          "text": [
            "+-----------+--------+--------------------+-------------+-------------+\n",
            "|shipping_id|order_id|    shipping_address|shipping_date|      carrier|\n",
            "+-----------+--------+--------------------+-------------+-------------+\n",
            "|        601|     201|    123 Main St, USA|   2023-01-06|        FedEx|\n",
            "|        602|     202|    456 Baker St, UK|   2023-01-07|          DHL|\n",
            "|        603|     203|  789 Hill Rd, India|         NULL|     BlueDart|\n",
            "|        604|     204| 12 King Ave, Canada|   2023-01-09|         NULL|\n",
            "|        605|     205|  99 Ocean Blvd, USA|   2023-01-10|         USPS|\n",
            "|        606|     206| 17 West Dr, Germany|         NULL|          DHL|\n",
            "|        607|     207|  22 East St, France|   2023-01-12|        FedEx|\n",
            "|        608|     208|  5 North Rd, Canada|   2023-01-13|          UPS|\n",
            "|        609|     209|1 Central St, Russia|         NULL|  RussianPost|\n",
            "|        610|     210|8 Lake View, Aust...|   2023-01-15|AustraliaPost|\n",
            "+-----------+--------+--------------------+-------------+-------------+\n",
            "\n"
          ]
        }
      ]
    },
    {
      "cell_type": "code",
      "source": [
        "# List all reviews with the corresponding product names and customer names.\n",
        "query = \"\"\"\n",
        "select p.product_name, c.name, r.rating\n",
        "from reviews r\n",
        "join products p on p.product_id = r.product_id\n",
        "join customers c on c.customer_id = r.customer_id\n",
        "where rating is not null\n",
        "\"\"\"\n",
        "joined_df = spark.sql(query)\n",
        "joined_df.show()"
      ],
      "metadata": {
        "id": "zyBV3adiHz-9",
        "outputId": "9acb5d8c-e64f-4b66-9d24-d3c38d65b7fb",
        "colab": {
          "base_uri": "https://localhost:8080/"
        }
      },
      "execution_count": 39,
      "outputs": [
        {
          "output_type": "stream",
          "name": "stdout",
          "text": [
            "+------------+-------+------+\n",
            "|product_name|   name|rating|\n",
            "+------------+-------+------+\n",
            "|      Laptop|  Alice|     5|\n",
            "|    Keyboard|Charlie|     3|\n",
            "|       Phone|    Eva|     2|\n",
            "|       Mouse|    Bob|     4|\n",
            "|      Tablet|  Frank|     4|\n",
            "|      Webcam|    Ivy|     4|\n",
            "|  Headphones|  Henry|     5|\n",
            "|     Charger|   John|     3|\n",
            "+------------+-------+------+\n",
            "\n"
          ]
        }
      ]
    },
    {
      "cell_type": "markdown",
      "source": [
        "Show the total quantity ordered for each product (include products with zero orders).\n",
        "\n",
        "Find customers who haven't placed any orders.\n",
        "\n",
        "Display orders with their total payment amounts (some orders might not have payments).\n",
        "\n",
        "List products that have never been ordered.\n",
        "\n",
        "Show all customers and their most recent order date (if any)."
      ],
      "metadata": {
        "id": "RJda_g77JKqa"
      }
    },
    {
      "cell_type": "code",
      "source": [
        "#Find customers who haven't placed any orders.\n",
        "query = \"\"\"\n",
        "select o.order_id,c.name,o.status\n",
        "from orders o\n",
        "join customers c on c.customer_id = o.customer_id\n",
        "where order_id is null\n",
        "\"\"\"\n",
        "joined_df = spark.sql(query)\n",
        "joined_df.show()"
      ],
      "metadata": {
        "id": "rYz7c9-tJRMe",
        "outputId": "0dcfe425-f657-48fb-946a-070ede0a4851",
        "colab": {
          "base_uri": "https://localhost:8080/"
        }
      },
      "execution_count": 40,
      "outputs": [
        {
          "output_type": "stream",
          "name": "stdout",
          "text": [
            "+--------+----+------+\n",
            "|order_id|name|status|\n",
            "+--------+----+------+\n",
            "+--------+----+------+\n",
            "\n"
          ]
        }
      ]
    },
    {
      "cell_type": "code",
      "source": [
        "#Display orders with their total payment amounts (some orders might not have payments).\n",
        "query = \"\"\"\n",
        "select o.order_id, p.amount\n",
        "from payments p\n",
        "join orders o on o.order_id = p.order_id\n",
        "\n",
        "\"\"\"\n",
        "joined_df = spark.sql(query)\n",
        "joined_df.show()"
      ],
      "metadata": {
        "id": "SMHbv3BCIPcN",
        "outputId": "889c3550-15ba-4a27-a7f0-b57cea0c8974",
        "colab": {
          "base_uri": "https://localhost:8080/"
        }
      },
      "execution_count": 41,
      "outputs": [
        {
          "output_type": "stream",
          "name": "stdout",
          "text": [
            "+--------+-------+\n",
            "|order_id| amount|\n",
            "+--------+-------+\n",
            "|     201|1039.97|\n",
            "|     202|  49.99|\n",
            "|     203| 599.97|\n",
            "|     204| 699.99|\n",
            "|     205| 599.98|\n",
            "|     206| 149.99|\n",
            "|     207| 359.96|\n",
            "|     208|  79.98|\n",
            "|     209|  39.99|\n",
            "|     210|  89.99|\n",
            "+--------+-------+\n",
            "\n"
          ]
        }
      ]
    },
    {
      "cell_type": "code",
      "source": [],
      "metadata": {
        "id": "NA7JdK7OR2W2"
      },
      "execution_count": 41,
      "outputs": []
    },
    {
      "cell_type": "code",
      "source": [
        "query = \"\"\"\n",
        "select *\n",
        "from orders\n",
        "\"\"\"\n",
        "joined_df = spark.sql(query)\n",
        "joined_df.show()"
      ],
      "metadata": {
        "id": "nsqKAZtFRAcf",
        "outputId": "1c1480c7-16ff-40b6-ce1f-4eee583f0b8a",
        "colab": {
          "base_uri": "https://localhost:8080/"
        }
      },
      "execution_count": 42,
      "outputs": [
        {
          "output_type": "stream",
          "name": "stdout",
          "text": [
            "+--------+-----------+----------+----------+\n",
            "|order_id|customer_id|order_date|    status|\n",
            "+--------+-----------+----------+----------+\n",
            "|     201|          1|2023-01-05|   Shipped|\n",
            "|     202|          2|2023-01-06|Processing|\n",
            "|     203|          3|2023-01-07| Delivered|\n",
            "|     204|          4|2023-01-08| Cancelled|\n",
            "|     205|          5|2023-01-09|   Shipped|\n",
            "|     206|          6|2023-01-10| Delivered|\n",
            "|     207|          7|2023-01-11|   Shipped|\n",
            "|     208|          8|2023-01-12|Processing|\n",
            "|     209|          9|2023-01-13|   Shipped|\n",
            "|     210|         10|2023-01-14| Delivered|\n",
            "+--------+-----------+----------+----------+\n",
            "\n"
          ]
        }
      ]
    },
    {
      "cell_type": "code",
      "source": [
        "query = \"\"\"\n",
        "SELECT\n",
        "    c.customer_id,\n",
        "    c.name,\n",
        "    c.email,\n",
        "    COUNT(o.order_id) AS order_count\n",
        "FROM customers c\n",
        "JOIN orders o ON c.customer_id = o.customer_id\n",
        "GROUP BY c.customer_id, c.name, c.email\n",
        "ORDER BY order_count DESC\n",
        "\"\"\"\n",
        "joined_df = spark.sql(query)\n",
        "joined_df.show()"
      ],
      "metadata": {
        "id": "-4mQD6V4VNg1",
        "outputId": "e03422b9-202d-4f4e-ff55-22eda7db58bf",
        "colab": {
          "base_uri": "https://localhost:8080/"
        }
      },
      "execution_count": 43,
      "outputs": [
        {
          "output_type": "stream",
          "name": "stdout",
          "text": [
            "+-----------+-------+-----------------+-----------+\n",
            "|customer_id|   name|            email|order_count|\n",
            "+-----------+-------+-----------------+-----------+\n",
            "|          1|  Alice|alice@example.com|          1|\n",
            "|          2|    Bob|  bob@example.com|          1|\n",
            "|          4|  David|david@example.com|          1|\n",
            "|          5|    Eva|  eva@example.com|          1|\n",
            "|          6|  Frank|frank@example.com|          1|\n",
            "|          7|  Grace|grace@example.com|          1|\n",
            "|          8|  Henry|henry@example.com|          1|\n",
            "|          9|    Ivy|  ivy@example.com|          1|\n",
            "|          3|Charlie|             NULL|          1|\n",
            "|         10|   John|             NULL|          1|\n",
            "+-----------+-------+-----------------+-----------+\n",
            "\n"
          ]
        }
      ]
    },
    {
      "cell_type": "code",
      "source": [
        "#Missing Information Analysis Identify orders that have payments but are missing shipping information.\n",
        "#List products that have never been ordered.\n",
        "query = \"\"\"\n",
        "select p.amount , s.shipping_date\n",
        "from shipping s\n",
        "join orders o on o.order_id = s.order_id\n",
        "join payments p on p.order_id = o.order_id\n",
        "where shipping_date is null\n",
        "\"\"\"\n",
        "joined_df = spark.sql(query)\n",
        "joined_df.show()"
      ],
      "metadata": {
        "id": "fo0zrwfPX3ew",
        "outputId": "73163dd4-b106-48ec-97dd-749a63e3b155",
        "colab": {
          "base_uri": "https://localhost:8080/"
        }
      },
      "execution_count": 44,
      "outputs": [
        {
          "output_type": "stream",
          "name": "stdout",
          "text": [
            "+------+-------------+\n",
            "|amount|shipping_date|\n",
            "+------+-------------+\n",
            "|599.97|         NULL|\n",
            "| 39.99|         NULL|\n",
            "|149.99|         NULL|\n",
            "+------+-------------+\n",
            "\n"
          ]
        }
      ]
    },
    {
      "cell_type": "code",
      "source": [
        "query = \"\"\"\n",
        "select *\n",
        "from products\n",
        "\"\"\"\n",
        "joined_df = spark.sql(query)\n",
        "joined_df.show()"
      ],
      "metadata": {
        "id": "3JHtB4zqeAds",
        "outputId": "714d96d8-da05-4f50-97a0-e548e2ebef48",
        "colab": {
          "base_uri": "https://localhost:8080/"
        }
      },
      "execution_count": 45,
      "outputs": [
        {
          "output_type": "stream",
          "name": "stdout",
          "text": [
            "+----------+------------+-----------+------+\n",
            "|product_id|product_name|   category| price|\n",
            "+----------+------------+-----------+------+\n",
            "|       101|      Laptop|Electronics|999.99|\n",
            "|       102|       Mouse|Electronics| 19.99|\n",
            "|       103|    Keyboard|Electronics| 49.99|\n",
            "|       104|     Monitor|Electronics|199.99|\n",
            "|       105|       Phone|Electronics|699.99|\n",
            "|       106|      Tablet|Electronics|299.99|\n",
            "|       107|     Printer|Electronics|149.99|\n",
            "|       108|  Headphones|Electronics| 89.99|\n",
            "|       109|      Webcam|Electronics| 39.99|\n",
            "|       110|     Charger|Accessories|  NULL|\n",
            "+----------+------------+-----------+------+\n",
            "\n"
          ]
        }
      ]
    },
    {
      "cell_type": "code",
      "source": [
        "#Product Popularity Show products with their total quantities sold, including products never ordered.\n",
        "query = \"\"\"\n",
        "select  count(product_id)\n",
        "from products\n",
        "\"\"\"\n",
        "joined_df = spark.sql(query)\n",
        "joined_df.show()"
      ],
      "metadata": {
        "id": "bxqlECVqRAig",
        "outputId": "a9c758ff-e463-4dbf-e455-f66b6d97d92c",
        "colab": {
          "base_uri": "https://localhost:8080/"
        }
      },
      "execution_count": 50,
      "outputs": [
        {
          "output_type": "stream",
          "name": "stdout",
          "text": [
            "+-----------------+\n",
            "|count(product_id)|\n",
            "+-----------------+\n",
            "|               10|\n",
            "+-----------------+\n",
            "\n"
          ]
        }
      ]
    },
    {
      "cell_type": "markdown",
      "source": [
        "Customer-Order Matching\n",
        "Find all customers with their order counts, including those who never ordered.\n",
        "\n",
        "Missing Information Analysis\n",
        "Identify orders that have payments but are missing shipping information.\n",
        "\n",
        "Product Popularity\n",
        "Show products with their total quantities sold, including products never ordered.\n",
        "\n",
        "International Customers\n",
        "List customers from Canada with their order details and payment methods.\n",
        "\n",
        "Review Engagement\n",
        "Find customers who placed orders but never left product reviews.\n",
        "\n",
        "Shipping Performance\n",
        "Calculate average shipping time (shipping_date - order_date) per carrier.\n",
        "\n",
        "High-Value Orders\n",
        "Identify orders where the total amount paid was more than $500.\n",
        "\n",
        "Category Preferences\n",
        "Show each customer's most frequently purchased product category.\n",
        "\n",
        "Payment Method Trends\n",
        "Compare usage counts of each payment method by country.\n",
        "\n",
        "Incomplete Orders\n",
        "Find orders marked as \"Processing\" with no shipping date after 3+ days.\n",
        "\n",
        "Premium Customers\n",
        "Identify customers who spent more than $1000 in total.\n",
        "\n",
        "Product-Rating Analysis\n",
        "Show products with their average ratings, including products without reviews.\n",
        "\n",
        "Order Value Discrepancies\n",
        "Find orders where payment amount doesn't match sum(product_price × quantity).\n",
        "\n",
        "Customer Retention\n",
        "Find customers who placed more than one order in January 2023.\n",
        "\n",
        "Abandoned Checkouts\n",
        "Identify customers who added items to orders but have no payment records."
      ],
      "metadata": {
        "id": "uy2ZPdB0WAa_"
      }
    },
    {
      "cell_type": "markdown",
      "source": [],
      "metadata": {
        "id": "mrZRu8PZhU8X"
      }
    }
  ]
}